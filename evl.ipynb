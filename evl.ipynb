{
 "cells": [
  {
   "cell_type": "code",
   "execution_count": 1,
   "id": "73a82799",
   "metadata": {},
   "outputs": [],
   "source": [
    "import numpy as np"
   ]
  },
  {
   "cell_type": "code",
   "execution_count": 2,
   "id": "378130ad",
   "metadata": {},
   "outputs": [],
   "source": [
    "results_pehe = []\n",
    "results_msey = []\n",
    "\n",
    "for i in range(10):\n",
    "    cur_name = \"./results/test_results_flickrmodel.SITE_reapted_\"+str(i)+\".npy\"\n",
    "    cur_re = np.load( cur_name)\n",
    "    results_pehe.append(cur_re[0])\n",
    "    results_msey.append(cur_re[1])    "
   ]
  },
  {
   "cell_type": "code",
   "execution_count": 3,
   "id": "b2f6dc44",
   "metadata": {},
   "outputs": [],
   "source": [
    "print(np.mean(results_pehe),np.std(results_pehe))\n",
    "print(np.mean(results_msey),np.std(results_msey))"
   ]
  }
 ],
 "metadata": {
  "kernelspec": {
   "display_name": "Python 3 (ipykernel)",
   "language": "python",
   "name": "python3"
  },
  "language_info": {
   "codemirror_mode": {
    "name": "ipython",
    "version": 3
   },
   "file_extension": ".py",
   "mimetype": "text/x-python",
   "name": "python",
   "nbconvert_exporter": "python",
   "pygments_lexer": "ipython3",
   "version": "3.7.15"
  }
 },
 "nbformat": 4,
 "nbformat_minor": 5
}
